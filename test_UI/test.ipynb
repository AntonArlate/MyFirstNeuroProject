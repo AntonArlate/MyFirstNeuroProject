{
 "cells": [
  {
   "cell_type": "code",
   "execution_count": 7,
   "metadata": {},
   "outputs": [],
   "source": [
    "import factory_ob"
   ]
  },
  {
   "cell_type": "code",
   "execution_count": 16,
   "metadata": {},
   "outputs": [],
   "source": [
    "in_stores = {}\n",
    "out_stores = {}\n",
    "flow = []\n",
    "flow_map = {}\n",
    "all_factoty_list = []\n",
    "err_factory = []"
   ]
  },
  {
   "cell_type": "code",
   "execution_count": 15,
   "metadata": {},
   "outputs": [
    {
     "name": "stdout",
     "output_type": "stream",
     "text": [
      "[<factory_ob.factory object at 0x0000024D6E7C62C0>, <factory_ob.factory object at 0x0000024D6E8FB250>]\n"
     ]
    }
   ],
   "source": [
    "print(all_factoty_list)"
   ]
  },
  {
   "cell_type": "code",
   "execution_count": 17,
   "metadata": {},
   "outputs": [],
   "source": [
    "f_name = \"f_reinf_iron_plate_1\"\n",
    "f_request = {\"iron\":12}\n",
    "f_produce = {\"reinf_iron_plate\":1}\n",
    "reinf_iron_plate_1 = factory_ob.factory(f_name, f_request, f_produce)\n",
    "all_factoty_list.append(reinf_iron_plate_1)"
   ]
  },
  {
   "cell_type": "code",
   "execution_count": 19,
   "metadata": {},
   "outputs": [],
   "source": [
    "def in_store_generator ():\n",
    "    for fac in all_factoty_list:\n",
    "        for item in fac.request:\n",
    "            if item not in in_stores:\n",
    "                in_stores[item] = [0]"
   ]
  },
  {
   "cell_type": "code",
   "execution_count": 20,
   "metadata": {},
   "outputs": [],
   "source": [
    "in_store_generator()"
   ]
  }
 ],
 "metadata": {
  "kernelspec": {
   "display_name": "Python 3.10.8 64-bit (microsoft store)",
   "language": "python",
   "name": "python3"
  },
  "language_info": {
   "codemirror_mode": {
    "name": "ipython",
    "version": 3
   },
   "file_extension": ".py",
   "mimetype": "text/x-python",
   "name": "python",
   "nbconvert_exporter": "python",
   "pygments_lexer": "ipython3",
   "version": "3.10.8"
  },
  "orig_nbformat": 4,
  "vscode": {
   "interpreter": {
    "hash": "0320171b436661336dcf66160e166840836de9e536627b830f1a4abdbb46b496"
   }
  }
 },
 "nbformat": 4,
 "nbformat_minor": 2
}
